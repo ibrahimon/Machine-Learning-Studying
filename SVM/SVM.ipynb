{
 "cells": [
  {
   "cell_type": "code",
   "execution_count": 42,
   "id": "70662dba",
   "metadata": {},
   "outputs": [],
   "source": [
    "#imports\n",
    "import pandas as pd\n",
    "import numpy as np\n",
    "import matplotlib as mpl\n",
    "import matplotlib.pyplot as plt\n",
    "import seaborn as sns\n",
    "sns.set_context('notebook')\n",
    "sns.set_style('white')\n"
   ]
  },
  {
   "cell_type": "code",
   "execution_count": 43,
   "id": "826307a7",
   "metadata": {},
   "outputs": [],
   "source": [
    "from scipy.io import loadmat\n",
    "from sklearn import svm\n"
   ]
  },
  {
   "cell_type": "code",
   "execution_count": 44,
   "id": "99533a16",
   "metadata": {},
   "outputs": [],
   "source": [
    "pd.set_option('display.notebook_repr_html', False)\n",
    "pd.set_option('display.max_columns', None)\n",
    "pd.set_option('display.max_rows', 150)\n",
    "pd.set_option('display.max_seq_items', None)\n"
   ]
  },
  {
   "cell_type": "code",
   "execution_count": 45,
   "id": "7ee2446a",
   "metadata": {},
   "outputs": [],
   "source": [
    "# functions\n",
    "def plotData(X, y ,S):\n",
    "    pos = (y == 1).ravel() #filter positive data\n",
    "    neg = (y == 0).ravel()\n",
    "    plt.scatter(X[pos,0], X[pos,1], s=S, c='b', marker='+', linewidths=1)\n",
    "    plt.scatter(X[neg,0], X[neg,1], s=S, c='r', marker='o', linewidths=1)\n",
    "\n"
   ]
  },
  {
   "cell_type": "code",
   "execution_count": 46,
   "id": "42f68e05",
   "metadata": {},
   "outputs": [],
   "source": [
    "def plot_svc(svc, X, y, h=0.02, pad=0.25):\n",
    "    x_min, x_max = X[:, 0].min()-pad, X[:, 0].max()+pad\n",
    "    y_min, y_max = X[:, 1].min()-pad, X[:, 1].max()+pad\n",
    "    xx, yy = np.meshgrid(np.arange(x_min, x_max, h), np.arange(y_min, y_max, h))\n",
    "    Z = svc.predict(np.c_[xx.ravel(), yy.ravel()])\n",
    "    Z = Z.reshape(xx.shape)\n",
    "    plt.contourf(xx, yy, Z, cmap=plt.cm.Paired, alpha=0.2)\n",
    "    \n",
    "\n"
   ]
  },
  {
   "cell_type": "code",
   "execution_count": null,
   "id": "1e57d29b",
   "metadata": {},
   "outputs": [],
   "source": []
  },
  {
   "cell_type": "code",
   "execution_count": 47,
   "id": "364e25d3",
   "metadata": {},
   "outputs": [
    {
     "name": "stdout",
     "output_type": "stream",
     "text": [
      "{'__header__': b'MATLAB 5.0 MAT-file, Platform: GLNXA64, Created on: Sun Nov 13 14:28:43 2011', '__version__': '1.0', '__globals__': [], 'X': array([[1.9643  , 4.5957  ],\n",
      "       [2.2753  , 3.8589  ],\n",
      "       [2.9781  , 4.5651  ],\n",
      "       [2.932   , 3.5519  ],\n",
      "       [3.5772  , 2.856   ],\n",
      "       [4.015   , 3.1937  ],\n",
      "       [3.3814  , 3.4291  ],\n",
      "       [3.9113  , 4.1761  ],\n",
      "       [2.7822  , 4.0431  ],\n",
      "       [2.5518  , 4.6162  ],\n",
      "       [3.3698  , 3.9101  ],\n",
      "       [3.1048  , 3.0709  ],\n",
      "       [1.9182  , 4.0534  ],\n",
      "       [2.2638  , 4.3706  ],\n",
      "       [2.6555  , 3.5008  ],\n",
      "       [3.1855  , 4.2888  ],\n",
      "       [3.6579  , 3.8692  ],\n",
      "       [3.9113  , 3.4291  ],\n",
      "       [3.6002  , 3.1221  ],\n",
      "       [3.0357  , 3.3165  ],\n",
      "       [1.5841  , 3.3575  ],\n",
      "       [2.0103  , 3.2039  ],\n",
      "       [1.9527  , 2.7843  ],\n",
      "       [2.2753  , 2.7127  ],\n",
      "       [2.3099  , 2.9584  ],\n",
      "       [2.8283  , 2.6309  ],\n",
      "       [3.0473  , 2.2931  ],\n",
      "       [2.4827  , 2.0373  ],\n",
      "       [2.5057  , 2.3853  ],\n",
      "       [1.8721  , 2.0577  ],\n",
      "       [2.0103  , 2.3546  ],\n",
      "       [1.2269  , 2.3239  ],\n",
      "       [1.8951  , 2.9174  ],\n",
      "       [1.561   , 3.0709  ],\n",
      "       [1.5495  , 2.6923  ],\n",
      "       [1.6878  , 2.4057  ],\n",
      "       [1.4919  , 2.0271  ],\n",
      "       [0.962   , 2.682   ],\n",
      "       [1.1693  , 2.9276  ],\n",
      "       [0.8122  , 2.9992  ],\n",
      "       [0.9735  , 3.3881  ],\n",
      "       [1.25    , 3.1937  ],\n",
      "       [1.3191  , 3.5109  ],\n",
      "       [2.2292  , 2.201   ],\n",
      "       [2.4482  , 2.6411  ],\n",
      "       [2.7938  , 1.9656  ],\n",
      "       [2.091   , 1.6177  ],\n",
      "       [2.5403  , 2.8867  ],\n",
      "       [0.9044  , 3.0198  ],\n",
      "       [0.76615 , 2.5899  ],\n",
      "       [0.086405, 4.1045  ]]), 'y': array([[1],\n",
      "       [1],\n",
      "       [1],\n",
      "       [1],\n",
      "       [1],\n",
      "       [1],\n",
      "       [1],\n",
      "       [1],\n",
      "       [1],\n",
      "       [1],\n",
      "       [1],\n",
      "       [1],\n",
      "       [1],\n",
      "       [1],\n",
      "       [1],\n",
      "       [1],\n",
      "       [1],\n",
      "       [1],\n",
      "       [1],\n",
      "       [1],\n",
      "       [0],\n",
      "       [0],\n",
      "       [0],\n",
      "       [0],\n",
      "       [0],\n",
      "       [0],\n",
      "       [0],\n",
      "       [0],\n",
      "       [0],\n",
      "       [0],\n",
      "       [0],\n",
      "       [0],\n",
      "       [0],\n",
      "       [0],\n",
      "       [0],\n",
      "       [0],\n",
      "       [0],\n",
      "       [0],\n",
      "       [0],\n",
      "       [0],\n",
      "       [0],\n",
      "       [0],\n",
      "       [0],\n",
      "       [0],\n",
      "       [0],\n",
      "       [0],\n",
      "       [0],\n",
      "       [0],\n",
      "       [0],\n",
      "       [0],\n",
      "       [1]], dtype=uint8)}\n"
     ]
    }
   ],
   "source": [
    "# exapmle 1 , Linear SVM\n",
    "\n",
    "data1 = loadmat('ex6data1.mat')\n",
    "print(data1)    \n",
    "\n",
    "y1 = data1['y']\n",
    "X1 = data1['X']\n"
   ]
  },
  {
   "cell_type": "code",
   "execution_count": 48,
   "id": "eb9925ac",
   "metadata": {},
   "outputs": [
    {
     "ename": "NameError",
     "evalue": "name 'svc' is not defined",
     "output_type": "error",
     "traceback": [
      "\u001b[1;31m---------------------------------------------------------------------------\u001b[0m",
      "\u001b[1;31mNameError\u001b[0m                                 Traceback (most recent call last)",
      "Input \u001b[1;32mIn [48]\u001b[0m, in \u001b[0;36m<cell line: 4>\u001b[1;34m()\u001b[0m\n\u001b[0;32m      2\u001b[0m plt\u001b[38;5;241m.\u001b[39mscatter(X1[:,\u001b[38;5;241m0\u001b[39m], X1[:,\u001b[38;5;241m1\u001b[39m], s\u001b[38;5;241m=\u001b[39m\u001b[38;5;241m70\u001b[39m, c\u001b[38;5;241m=\u001b[39my1, cmap\u001b[38;5;241m=\u001b[39mmpl\u001b[38;5;241m.\u001b[39mcm\u001b[38;5;241m.\u001b[39mPaired)\n\u001b[0;32m      3\u001b[0m \u001b[38;5;66;03m# Support vectors indicated in plot by vertical lines\u001b[39;00m\n\u001b[1;32m----> 4\u001b[0m sv \u001b[38;5;241m=\u001b[39m \u001b[43msvc\u001b[49m\u001b[38;5;241m.\u001b[39msupport_vectors_\n\u001b[0;32m      5\u001b[0m plt\u001b[38;5;241m.\u001b[39mscatter(sv[:,\u001b[38;5;241m0\u001b[39m], sv[:,\u001b[38;5;241m1\u001b[39m], c\u001b[38;5;241m=\u001b[39m\u001b[38;5;124m'\u001b[39m\u001b[38;5;124my\u001b[39m\u001b[38;5;124m'\u001b[39m, marker\u001b[38;5;241m=\u001b[39m\u001b[38;5;124m'\u001b[39m\u001b[38;5;124m|\u001b[39m\u001b[38;5;124m'\u001b[39m, s\u001b[38;5;241m=\u001b[39m\u001b[38;5;241m100\u001b[39m, linewidths\u001b[38;5;241m=\u001b[39m\u001b[38;5;124m'\u001b[39m\u001b[38;5;124m5\u001b[39m\u001b[38;5;124m'\u001b[39m)\n\u001b[0;32m      6\u001b[0m plt\u001b[38;5;241m.\u001b[39mxlim(x_min, x_max)\n",
      "\u001b[1;31mNameError\u001b[0m: name 'svc' is not defined"
     ]
    },
    {
     "data": {
      "image/png": "[encoded data removed]",
      "text/plain": [
       "<Figure size 432x288 with 1 Axes>"
      ]
     },
     "metadata": {},
     "output_type": "display_data"
    }
   ],
   "source": [
    "plotData(X1, y1,6)\n",
    "plt.scatter(X1[:,0], X1[:,1], s=70, c=y1, cmap=mpl.cm.Paired)\n",
    "# Support vectors indicated in plot by vertical lines\n",
    "sv = svc.support_vectors_\n",
    "plt.scatter(sv[:,0], sv[:,1], c='y', marker='|', s=100, linewidths='5')\n",
    "plt.xlim(x_min, x_max)\n",
    "plt.ylim(y_min, y_max)\n",
    "plt.xlabel('X1')\n",
    "plt.ylabel('X2')\n",
    "plt.show()\n",
    "print('Number of support vectors: ', svc.support_.size)\n"
   ]
  },
  {
   "cell_type": "code",
   "execution_count": 49,
   "id": "94f50db3",
   "metadata": {},
   "outputs": [
    {
     "name": "stdout",
     "output_type": "stream",
     "text": [
      "X1: (51, 2)\n",
      "y1: (51, 1)\n"
     ]
    }
   ],
   "source": [
    "print('X1:', X1.shape)\n",
    "print('y1:', y1.shape)"
   ]
  },
  {
   "cell_type": "code",
   "execution_count": 50,
   "id": "a3edebfc",
   "metadata": {},
   "outputs": [
    {
     "data": {
      "image/png": "[encoded data removed]",
      "text/plain": [
       "<Figure size 432x288 with 1 Axes>"
      ]
     },
     "metadata": {},
     "output_type": "display_data"
    }
   ],
   "source": [
    "#data before classifying\n",
    "plotData(X1,y1,50)\n",
    "\n",
    "\n"
   ]
  },
  {
   "cell_type": "code",
   "execution_count": 51,
   "id": "d1cecb3a",
   "metadata": {},
   "outputs": [
    {
     "data": {
      "image/png": "[encoded data removed]",
      "text/plain": [
       "<Figure size 432x288 with 1 Axes>"
      ]
     },
     "metadata": {},
     "output_type": "display_data"
    }
   ],
   "source": [
    " #small C ==  UF\n",
    "clf = svm.SVC(C=1.0, kernel='linear')\n",
    "clf.fit(X1, y1.ravel())\n",
    "plot_svc(clf, X1, y1)"
   ]
  },
  {
   "cell_type": "code",
   "execution_count": 52,
   "id": "938e7f78",
   "metadata": {},
   "outputs": [
    {
     "data": {
      "image/png": "[encoded data removed]",
      "text/plain": [
       "<Figure size 432x288 with 1 Axes>"
      ]
     },
     "metadata": {},
     "output_type": "display_data"
    }
   ],
   "source": [
    "# big C ==  OF\n",
    "clf.set_params(C=100)\n",
    "clf.fit(X1, y1.ravel())\n",
    "plot_svc(clf, X1, y1)\n",
    "\n"
   ]
  },
  {
   "cell_type": "code",
   "execution_count": null,
   "id": "103d324e",
   "metadata": {},
   "outputs": [],
   "source": []
  }
 ],
 "metadata": {
  "kernelspec": {
   "display_name": "Python 3 (ipykernel)",
   "language": "python",
   "name": "python3"
  },
  "language_info": {
   "codemirror_mode": {
    "name": "ipython",
    "version": 3
   },
   "file_extension": ".py",
   "mimetype": "text/x-python",
   "name": "python",
   "nbconvert_exporter": "python",
   "pygments_lexer": "ipython3",
   "version": "3.9.12"
  }
 },
 "nbformat": 4,
 "nbformat_minor": 5
}
