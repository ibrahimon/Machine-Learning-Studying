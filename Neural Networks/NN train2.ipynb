{
 "cells": [
  {
   "cell_type": "code",
   "execution_count": 1,
   "id": "0b945e44",
   "metadata": {},
   "outputs": [],
   "source": [
    "import numpy as np"
   ]
  },
  {
   "cell_type": "code",
   "execution_count": 10,
   "id": "bf8ca0d6",
   "metadata": {},
   "outputs": [],
   "source": [
    "class Neural_Network(object):\n",
    "    def __init__(self):\n",
    "        \n",
    "  #parameters\n",
    "        self.inputSize = 2\n",
    "        self.outputSize = 1\n",
    "        self.hiddenSize = 3\n",
    "  #weights\n",
    "        self.W1 = np.random.randn(self.inputSize, self.hiddenSize) # (2x3) weight matrix\n",
    "        #from input to hidden layer\n",
    "        print(self.W1)\n",
    "        self.W2 = np.random.randn(self.hiddenSize, self.outputSize) # (3x1) weight matrix \n",
    "        #from hidden to output layer\n",
    "        print(self.W2)"
   ]
  },
  {
   "cell_type": "code",
   "execution_count": null,
   "id": "691c039e",
   "metadata": {},
   "outputs": [],
   "source": []
  },
  {
   "cell_type": "code",
   "execution_count": null,
   "id": "dff70498",
   "metadata": {},
   "outputs": [],
   "source": []
  },
  {
   "cell_type": "code",
   "execution_count": null,
   "id": "0961ebf4",
   "metadata": {},
   "outputs": [],
   "source": [
    "\n"
   ]
  },
  {
   "cell_type": "code",
   "execution_count": 11,
   "id": "fdbe9969",
   "metadata": {},
   "outputs": [],
   "source": [
    "def forward(self, X):\n",
    "    #forward propagation through our network\n",
    "    self.z = np.dot(X, self.W1) # dot product of X (input) and first set of 3x2 weights\n",
    "    self.z2 = self.sigmoid(self.z) # activation function\n",
    "    self.z3 = np.dot(self.z2, self.W2) # dot product of hidden layer (z2) and second set of 3x1 weights\n",
    "    o = self.sigmoid(self.z3) # final activation function\n",
    "    return o\n",
    "\n",
    "  "
   ]
  },
  {
   "cell_type": "code",
   "execution_count": 12,
   "id": "6db99670",
   "metadata": {},
   "outputs": [],
   "source": [
    "def sigmoid(self, s):\n",
    "    # activation function\n",
    "    return 1/(1+np.exp(-s))\n"
   ]
  },
  {
   "cell_type": "code",
   "execution_count": 13,
   "id": "fdd3dc3a",
   "metadata": {},
   "outputs": [],
   "source": [
    "def sigmoidPrime(self, s):\n",
    "    #derivative of sigmoid\n",
    "    return s * (1 - s)\n"
   ]
  },
  {
   "cell_type": "code",
   "execution_count": 15,
   "id": "67364d75",
   "metadata": {},
   "outputs": [],
   "source": [
    "  def backward(self, X, y, o):\n",
    "    # backward propagate through the network\n",
    "    self.o_error = y - o # error in output\n",
    "    self.o_delta = self.o_error*self.sigmoidPrime(o) # applying derivative of sigmoid to error\n",
    "    self.z2_error = self.o_delta.dot(self.W2.T) # z2 error: how much our hidden layer weights contributed to output error\n",
    "    self.z2_delta = self.z2_error*self.sigmoidPrime(self.z2) # applying derivative of sigmoid to z2 error\n",
    "    self.W1 += X.T.dot(self.z2_delta) # adjusting first set (input --> hidden) weights\n",
    "    self.W2 += self.z2.T.dot(self.o_delta) # adjusting second set (hidden --> output) weights\n",
    "\n"
   ]
  },
  {
   "cell_type": "code",
   "execution_count": null,
   "id": "7f48f429",
   "metadata": {},
   "outputs": [],
   "source": []
  },
  {
   "cell_type": "code",
   "execution_count": null,
   "id": "874ea41e",
   "metadata": {},
   "outputs": [],
   "source": [
    "   "
   ]
  },
  {
   "cell_type": "code",
   "execution_count": 16,
   "id": "4aefd147",
   "metadata": {},
   "outputs": [],
   "source": [
    "def train(self, X, y):\n",
    "    o = self.forward(X)\n",
    "    self.backward(X, y, o)\n",
    "\n"
   ]
  },
  {
   "cell_type": "code",
   "execution_count": 17,
   "id": "c2a943f7",
   "metadata": {},
   "outputs": [],
   "source": [
    "  def saveWeights(self):\n",
    "    np.savetxt(\"w1.txt\", self.W1, fmt=\"%s\")\n",
    "    np.savetxt(\"w2.txt\", self.W2, fmt=\"%s\")\n",
    "\n"
   ]
  },
  {
   "cell_type": "code",
   "execution_count": 18,
   "id": "32fe5cbe",
   "metadata": {},
   "outputs": [],
   "source": [
    "def predict(self):\n",
    "    print (\"Predicted data based on trained weights: \")\n",
    "    print (\"Input (scaled): \\n\" + str(xPredicted))\n",
    "    print (\"Output: \\n\" + str(self.forward(xPredicted)))\n"
   ]
  },
  {
   "cell_type": "code",
   "execution_count": 19,
   "id": "34a58e84",
   "metadata": {},
   "outputs": [],
   "source": [
    "# X = (hours studying, hours sleeping), y = score on test, xPredicted = 4 hours studying & 8 hours sleeping (input data for prediction)\n",
    "X = np.array(([2, 9], [1, 5], [3, 6]), dtype=float)\n",
    "y = np.array(([92], [86], [89]), dtype=float)\n",
    "xPredicted = np.array(([4,8]), dtype=float)\n"
   ]
  },
  {
   "cell_type": "code",
   "execution_count": 20,
   "id": "ae6173bb",
   "metadata": {},
   "outputs": [
    {
     "name": "stdout",
     "output_type": "stream",
     "text": [
      "[[2. 9.]\n",
      " [1. 5.]\n",
      " [3. 6.]]\n",
      "[[0.66666667 1.        ]\n",
      " [0.33333333 0.55555556]\n",
      " [1.         0.66666667]]\n"
     ]
    }
   ],
   "source": [
    "# scale units\n",
    "print(X)\n",
    "X = X/np.amax(X, axis=0) # maximum of X array\n",
    "print(X)\n"
   ]
  },
  {
   "cell_type": "code",
   "execution_count": 21,
   "id": "77b31c7d",
   "metadata": {},
   "outputs": [
    {
     "name": "stdout",
     "output_type": "stream",
     "text": [
      "[4. 8.]\n",
      "[0.5 1. ]\n"
     ]
    }
   ],
   "source": [
    "print(xPredicted)\n",
    "xPredicted = xPredicted/np.amax(xPredicted, axis=0) # maximum of xPredicted (our input data for the prediction)\n",
    "print(xPredicted)"
   ]
  },
  {
   "cell_type": "code",
   "execution_count": 22,
   "id": "97b7810f",
   "metadata": {},
   "outputs": [],
   "source": [
    "y = y/100 # max test score is 100\n"
   ]
  },
  {
   "cell_type": "code",
   "execution_count": 23,
   "id": "fa9fda37",
   "metadata": {},
   "outputs": [
    {
     "name": "stdout",
     "output_type": "stream",
     "text": [
      "[[-0.27501957 -1.03469615  1.20920417]\n",
      " [-0.67887956 -0.03660003  0.23144134]]\n",
      "[[-0.66438222]\n",
      " [-0.08444652]\n",
      " [ 2.28255799]]\n"
     ]
    }
   ],
   "source": [
    "NN = Neural_Network()\n"
   ]
  },
  {
   "cell_type": "code",
   "execution_count": 26,
   "id": "8e961f0a",
   "metadata": {},
   "outputs": [
    {
     "name": "stdout",
     "output_type": "stream",
     "text": [
      "# 0\n",
      "\n",
      "Input (scaled): \n",
      "[[0.66666667 1.        ]\n",
      " [0.33333333 0.55555556]\n",
      " [1.         0.66666667]]\n",
      "Actual Output: \n",
      "[[0.92]\n",
      " [0.86]\n",
      " [0.89]]\n"
     ]
    },
    {
     "ename": "AttributeError",
     "evalue": "'Neural_Network' object has no attribute 'forward'",
     "output_type": "error",
     "traceback": [
      "\u001b[1;31m---------------------------------------------------------------------------\u001b[0m",
      "\u001b[1;31mAttributeError\u001b[0m                            Traceback (most recent call last)",
      "Input \u001b[1;32mIn [26]\u001b[0m, in \u001b[0;36m<cell line: 1>\u001b[1;34m()\u001b[0m\n\u001b[0;32m      3\u001b[0m \u001b[38;5;28mprint\u001b[39m (\u001b[38;5;124m\"\u001b[39m\u001b[38;5;124mInput (scaled): \u001b[39m\u001b[38;5;130;01m\\n\u001b[39;00m\u001b[38;5;124m\"\u001b[39m \u001b[38;5;241m+\u001b[39m \u001b[38;5;28mstr\u001b[39m(X))\n\u001b[0;32m      4\u001b[0m \u001b[38;5;28mprint\u001b[39m (\u001b[38;5;124m\"\u001b[39m\u001b[38;5;124mActual Output: \u001b[39m\u001b[38;5;130;01m\\n\u001b[39;00m\u001b[38;5;124m\"\u001b[39m \u001b[38;5;241m+\u001b[39m \u001b[38;5;28mstr\u001b[39m(y))\n\u001b[1;32m----> 5\u001b[0m \u001b[38;5;28mprint\u001b[39m (\u001b[38;5;124m\"\u001b[39m\u001b[38;5;124mPredicted Output: \u001b[39m\u001b[38;5;130;01m\\n\u001b[39;00m\u001b[38;5;124m\"\u001b[39m \u001b[38;5;241m+\u001b[39m \u001b[38;5;28mstr\u001b[39m(\u001b[43mNN\u001b[49m\u001b[38;5;241;43m.\u001b[39;49m\u001b[43mforward\u001b[49m(X)))\n\u001b[0;32m      6\u001b[0m \u001b[38;5;28mprint\u001b[39m (\u001b[38;5;124m\"\u001b[39m\u001b[38;5;124mLoss: \u001b[39m\u001b[38;5;130;01m\\n\u001b[39;00m\u001b[38;5;124m\"\u001b[39m \u001b[38;5;241m+\u001b[39m \u001b[38;5;28mstr\u001b[39m(np\u001b[38;5;241m.\u001b[39mmean(np\u001b[38;5;241m.\u001b[39msquare(y \u001b[38;5;241m-\u001b[39m NN\u001b[38;5;241m.\u001b[39mforward(X)))) )\u001b[38;5;66;03m# mean sum squared loss\u001b[39;00m\n\u001b[0;32m      7\u001b[0m \u001b[38;5;28mprint\u001b[39m (\u001b[38;5;124m\"\u001b[39m\u001b[38;5;130;01m\\n\u001b[39;00m\u001b[38;5;124m\"\u001b[39m)\n",
      "\u001b[1;31mAttributeError\u001b[0m: 'Neural_Network' object has no attribute 'forward'"
     ]
    }
   ],
   "source": [
    "\n",
    "for i in range(10): # trains the NN 1,000 times\n",
    "    print (\"# \" + str(i) + \"\\n\")\n",
    "    print (\"Input (scaled): \\n\" + str(X))\n",
    "    print (\"Actual Output: \\n\" + str(y))\n",
    "    print (\"Predicted Output: \\n\" + str(NN.forward(X)))\n",
    "    print (\"Loss: \\n\" + str(np.mean(np.square(y - NN.forward(X)))) )# mean sum squared loss\n",
    "    print (\"\\n\")\n",
    "    NN.train(X, y)\n",
    "\n",
    "\n"
   ]
  },
  {
   "cell_type": "code",
   "execution_count": 25,
   "id": "027147fa",
   "metadata": {},
   "outputs": [
    {
     "ename": "SyntaxError",
     "evalue": "invalid non-printable character U+2003 (1317916587.py, line 2)",
     "output_type": "error",
     "traceback": [
      "\u001b[1;36m  Input \u001b[1;32mIn [25]\u001b[1;36m\u001b[0m\n\u001b[1;33m    NN.predict()\u001b[0m\n\u001b[1;37m                ^\u001b[0m\n\u001b[1;31mSyntaxError\u001b[0m\u001b[1;31m:\u001b[0m invalid non-printable character U+2003\n"
     ]
    }
   ],
   "source": [
    "NN.saveWeights()\n",
    "NN.predict() "
   ]
  },
  {
   "cell_type": "code",
   "execution_count": null,
   "id": "79ff6fc1",
   "metadata": {},
   "outputs": [],
   "source": []
  }
 ],
 "metadata": {
  "kernelspec": {
   "display_name": "Python 3 (ipykernel)",
   "language": "python",
   "name": "python3"
  },
  "language_info": {
   "codemirror_mode": {
    "name": "ipython",
    "version": 3
   },
   "file_extension": ".py",
   "mimetype": "text/x-python",
   "name": "python",
   "nbconvert_exporter": "python",
   "pygments_lexer": "ipython3",
   "version": "3.9.12"
  }
 },
 "nbformat": 4,
 "nbformat_minor": 5
}
